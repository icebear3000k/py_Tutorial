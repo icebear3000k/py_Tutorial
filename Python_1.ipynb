{
  "cells": [
    {
      "cell_type": "markdown",
      "metadata": {
        "id": "view-in-github",
        "colab_type": "text"
      },
      "source": [
        "<a href=\"https://colab.research.google.com/github/icebear3000k/Tensor_Keras_Tutorial/blob/main/Python_1.ipynb\" target=\"_parent\"><img src=\"https://colab.research.google.com/assets/colab-badge.svg\" alt=\"Open In Colab\"/></a>"
      ]
    },
    {
      "cell_type": "code",
      "execution_count": null,
      "metadata": {
        "id": "Eul3f9tL4MqW"
      },
      "outputs": [],
      "source": [
        "import sys"
      ]
    },
    {
      "cell_type": "code",
      "execution_count": null,
      "metadata": {
        "colab": {
          "base_uri": "https://localhost:8080/",
          "height": 36
        },
        "id": "CaiMSTbT4Mqa",
        "outputId": "9929ff2e-555c-4150-fb84-5afefd0e6a21"
      },
      "outputs": [
        {
          "output_type": "execute_result",
          "data": {
            "text/plain": [
              "'3.7.13 (default, Mar 16 2022, 17:37:17) \\n[GCC 7.5.0]'"
            ],
            "application/vnd.google.colaboratory.intrinsic+json": {
              "type": "string"
            }
          },
          "metadata": {},
          "execution_count": 2
        }
      ],
      "source": [
        "sys.version"
      ]
    },
    {
      "cell_type": "code",
      "source": [
        "%ldir\n",
        "%history"
      ],
      "metadata": {
        "colab": {
          "base_uri": "https://localhost:8080/"
        },
        "id": "vcIF2NCPZBFs",
        "outputId": "b6b4e31a-86d7-49df-cae8-297aace0e02d"
      },
      "execution_count": null,
      "outputs": [
        {
          "output_type": "stream",
          "name": "stdout",
          "text": [
            "drwxr-xr-x 1 root 4096 Mar 23 14:22 \u001b[0m\u001b[01;34msample_data\u001b[0m/\n",
            "import sys\n",
            "sys.version\n",
            "%ldir\n",
            "%history\n"
          ]
        }
      ]
    },
    {
      "cell_type": "markdown",
      "metadata": {
        "id": "xPzULgmM4Mqb"
      },
      "source": [
        "### 파이썬의 장점\n",
        "\n",
        "배우기 쉽다.\n",
        "\n",
        "간결한 문법과 풍부한 표준 라이브러리를 가지고 있다.\n",
        "\n",
        "자료 구조들과 객체 지향 프로그래밍에 대해 간단하고도 효과적인 접근법을 제공한다.\n",
        "\n",
        "인터프리터적인 특징들은 대부분 플랫폼과 다양한 문제 영역에서 스크립트 작성과 빠른 응용 프로그램 개발에 이상적인 환경을 제공한다.\n",
        "\n",
        "풍부한 표준 라이브러리는 소스나 바이너리 형태로 파이썬 웹 사이트, https://www.python.org/, 에서 무료로 제공, 자유롭게 배포 가능하다.\n",
        "\n",
        "C 나 C++ (또는 C에서 호출 가능한 다른 언어들)로 구현된 함수나 자료 구조를 쉽게 추가할 수 있음\n"
      ]
    },
    {
      "cell_type": "markdown",
      "metadata": {
        "id": "VrjEXd9X4Mqe"
      },
      "source": [
        "### 표현식(expression) = 평가식 = 식 = 수식\n",
        "- 값\n",
        "- 값들과 연산자를 함께 사용해서 표현한 것\n",
        "- “평가”되면서 하나의 특정한 결과값으로 축약"
      ]
    },
    {
      "cell_type": "markdown",
      "metadata": {
        "id": "cSiomce94Mqf"
      },
      "source": [
        "### 변수(Variables) \n",
        "- 값을 기억해 두고 필요할 때 활용할 수 있음\n",
        "- 중간 계산값을 저장하거나 누적 등\n",
        "\n",
        "- = (대입 연산자)를 이용하여 값, 또는 연산 결과를 저장한다. "
      ]
    },
    {
      "cell_type": "markdown",
      "metadata": {
        "id": "z0uWi5tN4Mqg"
      },
      "source": [
        "#### 변수 이름을 지을 때…\n",
        "- 의미 있는 이름을 사용(권장)\n",
        "- 소문자와 대문자는 서로 다르게 취급\n",
        "- 변수의 이름은 문자와 숫자, 밑줄(_)로 이루어짐\n",
        "- 변수의 이름 중간에 공백이 들어가면 안됨. 단어를 구분하려면 밑줄(_)을 사용함\n",
        "- 숫자로 시작할 수 없음\n",
        "- 키워드는 사용할 수 없음"
      ]
    },
    {
      "cell_type": "code",
      "source": [
        "12num = 2"
      ],
      "metadata": {
        "colab": {
          "base_uri": "https://localhost:8080/",
          "height": 134
        },
        "id": "6H2J_QAM9TkF",
        "outputId": "b27a7d59-99b9-4e44-e244-1abf9377a9a3"
      },
      "execution_count": null,
      "outputs": [
        {
          "output_type": "error",
          "ename": "SyntaxError",
          "evalue": "ignored",
          "traceback": [
            "\u001b[0;36m  File \u001b[0;32m\"<ipython-input-4-4e34fd030a4a>\"\u001b[0;36m, line \u001b[0;32m1\u001b[0m\n\u001b[0;31m    12num = 2\u001b[0m\n\u001b[0m        ^\u001b[0m\n\u001b[0;31mSyntaxError\u001b[0m\u001b[0;31m:\u001b[0m invalid syntax\n"
          ]
        }
      ]
    },
    {
      "cell_type": "markdown",
      "metadata": {
        "id": "CFgdvuOo4Mqh"
      },
      "source": [
        "#### Python에서의 변수 (variables: 가변적인)\n",
        "- 값(객체)을 저장하는 메모리 상의 공간을 가리키는(object reference: 객체 참조) 이름\n",
        "- Python은 모든 것이 객체이므로 변수보다는 식별자(identifier)로 언급. 변수로 통용해서 사용하기도 함\n",
        "- 변수의 경우, 선언 및 할당이 동시에 이루어짐\n"
      ]
    },
    {
      "cell_type": "markdown",
      "source": [
        "![image.png](data:image/png;base64,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)"
      ],
      "metadata": {
        "id": "L1BosbES_XEP"
      }
    },
    {
      "cell_type": "code",
      "execution_count": null,
      "metadata": {
        "id": "cMaPveCE4Mqh"
      },
      "outputs": [],
      "source": [
        "a = 10\n",
        "b = 'hi'\n",
        "c = 3.14"
      ]
    },
    {
      "cell_type": "code",
      "execution_count": null,
      "metadata": {
        "id": "-X0U7kFE4Mqi"
      },
      "outputs": [],
      "source": [
        "spam = 15"
      ]
    },
    {
      "cell_type": "code",
      "execution_count": null,
      "metadata": {
        "id": "PGU53m4o4Mqi",
        "outputId": "6973f749-51f9-41b4-fb63-854e54e2eadb",
        "colab": {
          "base_uri": "https://localhost:8080/"
        }
      },
      "outputs": [
        {
          "output_type": "execute_result",
          "data": {
            "text/plain": [
              "15"
            ]
          },
          "metadata": {},
          "execution_count": 7
        }
      ],
      "source": [
        "spam"
      ]
    },
    {
      "cell_type": "code",
      "execution_count": null,
      "metadata": {
        "id": "Zu6989T44Mqi",
        "outputId": "7dd51025-ce91-410d-bedc-02e331cd593e",
        "colab": {
          "base_uri": "https://localhost:8080/"
        }
      },
      "outputs": [
        {
          "output_type": "execute_result",
          "data": {
            "text/plain": [
              "94402569464768"
            ]
          },
          "metadata": {},
          "execution_count": 8
        }
      ],
      "source": [
        "id(spam)"
      ]
    },
    {
      "cell_type": "code",
      "source": [
        "%whos"
      ],
      "metadata": {
        "colab": {
          "base_uri": "https://localhost:8080/"
        },
        "id": "cYe5F0dnZH0h",
        "outputId": "718b2bdb-4fa0-4567-ee47-ece0d3a2dc3d"
      },
      "execution_count": null,
      "outputs": [
        {
          "output_type": "stream",
          "name": "stdout",
          "text": [
            "Variable   Type      Data/Info\n",
            "------------------------------\n",
            "a          int       10\n",
            "b          str       hi\n",
            "c          float     3.14\n",
            "spam       int       15\n",
            "sys        module    <module 'sys' (built-in)>\n"
          ]
        }
      ]
    },
    {
      "cell_type": "code",
      "execution_count": null,
      "metadata": {
        "id": "rAS8n-Xw4Mqj"
      },
      "outputs": [],
      "source": [
        "del a"
      ]
    },
    {
      "cell_type": "code",
      "execution_count": null,
      "metadata": {
        "id": "u7fK1K-t4Mqj",
        "outputId": "c12b3b96-5500-4926-8ae6-b5786ba931f0",
        "colab": {
          "base_uri": "https://localhost:8080/"
        }
      },
      "outputs": [
        {
          "output_type": "stream",
          "name": "stdout",
          "text": [
            "Variable   Type      Data/Info\n",
            "------------------------------\n",
            "b          str       hi\n",
            "c          float     3.14\n",
            "spam       int       15\n",
            "sys        module    <module 'sys' (built-in)>\n"
          ]
        }
      ],
      "source": [
        "%whos"
      ]
    },
    {
      "cell_type": "markdown",
      "metadata": {
        "id": "_DhxFoqp4Mqk"
      },
      "source": [
        "### 다양한 대입형태"
      ]
    },
    {
      "cell_type": "code",
      "execution_count": null,
      "metadata": {
        "id": "ufSTzSue4Mql",
        "colab": {
          "base_uri": "https://localhost:8080/"
        },
        "outputId": "f01839fe-c5b8-4142-8a9f-a634c96c685b"
      },
      "outputs": [
        {
          "output_type": "stream",
          "name": "stdout",
          "text": [
            "Variable   Type      Data/Info\n",
            "------------------------------\n",
            "a          int       1\n",
            "b          int       1\n",
            "c          int       1\n",
            "spam       int       15\n",
            "sys        module    <module 'sys' (built-in)>\n"
          ]
        }
      ],
      "source": [
        "a=1\n",
        "b=c=a\n",
        "%whos"
      ]
    },
    {
      "cell_type": "code",
      "execution_count": null,
      "metadata": {
        "id": "ue5c8pLb4Mql",
        "outputId": "62cc121c-cd2a-45af-8d38-a29bfdf72170",
        "colab": {
          "base_uri": "https://localhost:8080/"
        }
      },
      "outputs": [
        {
          "output_type": "stream",
          "name": "stdout",
          "text": [
            "94402569464320\n",
            "94402569464320\n",
            "94402569464320\n"
          ]
        }
      ],
      "source": [
        "print(id(a))\n",
        "print(id(b))\n",
        "print(id(c))"
      ]
    },
    {
      "cell_type": "code",
      "execution_count": null,
      "metadata": {
        "id": "C51Nzj2Z4Mqm"
      },
      "outputs": [],
      "source": [
        "a,b =4,5"
      ]
    },
    {
      "cell_type": "code",
      "execution_count": null,
      "metadata": {
        "id": "KnjWD9Si4Mqm",
        "outputId": "c346a433-158d-48e7-a8a6-7958aac80ae1",
        "colab": {
          "base_uri": "https://localhost:8080/"
        }
      },
      "outputs": [
        {
          "output_type": "stream",
          "name": "stdout",
          "text": [
            "4 5 1\n",
            "94402569464416\n",
            "94402569464448\n",
            "94402569464320\n"
          ]
        }
      ],
      "source": [
        "print(a,b,c)\n",
        "print(id(a))\n",
        "print(id(b))\n",
        "print(id(c))"
      ]
    },
    {
      "cell_type": "code",
      "execution_count": null,
      "metadata": {
        "id": "p-s184sq4Mqm"
      },
      "outputs": [],
      "source": [
        "l=22\n",
        "r=10\n",
        "l, r = r, l"
      ]
    },
    {
      "cell_type": "code",
      "execution_count": null,
      "metadata": {
        "id": "sdtyIpvl4Mqm",
        "outputId": "75611bfb-a48a-486b-c302-0cee65f5549e",
        "colab": {
          "base_uri": "https://localhost:8080/"
        }
      },
      "outputs": [
        {
          "output_type": "execute_result",
          "data": {
            "text/plain": [
              "10"
            ]
          },
          "metadata": {},
          "execution_count": 17
        }
      ],
      "source": [
        "l"
      ]
    },
    {
      "cell_type": "code",
      "execution_count": null,
      "metadata": {
        "id": "FNiccyQQ4Mqm",
        "outputId": "9a24d790-3e14-4283-e23d-2f5e36e1ca16",
        "colab": {
          "base_uri": "https://localhost:8080/"
        }
      },
      "outputs": [
        {
          "output_type": "execute_result",
          "data": {
            "text/plain": [
              "22"
            ]
          },
          "metadata": {},
          "execution_count": 18
        }
      ],
      "source": [
        "r"
      ]
    },
    {
      "cell_type": "markdown",
      "metadata": {
        "id": "4yBOAfQ14Mqm"
      },
      "source": [
        "### 주석\n",
        "- 해시 문자(#)로 시작하고 줄의 끝까지임.\n",
        "- 주석은 줄의 처음에서 시작할 수도 있고, 공백이나 코드 뒤에 나올 수도 있음\n",
        "- 한 줄 주석\n",
        "- 주석은 코드의 의미를 정확히 전달하기 위한 것이고, 파이썬이 해석하지 않음"
      ]
    },
    {
      "cell_type": "markdown",
      "metadata": {
        "id": "8RC-ukU14Mqn"
      },
      "source": [
        "## 자료형\n",
        "- 값에 대한 type이 중요함\n",
        "- 값에 따라 서로 다른 기술적인 체계가 필요\n",
        "- 지원하는 연산 및 기능이 다르기 때문\n"
      ]
    },
    {
      "cell_type": "markdown",
      "metadata": {
        "id": "T2-_70284Mqn"
      },
      "source": [
        "### 수치형\n",
        "- 수를 표현하는 기본 리터럴\n",
        "- 부호를 나타내는 – , +를 앞에 붙일 수 있다. (-1, +2.3 등)\n",
        "\n",
        "#### 정수(integer)\n",
        "- 0, 100, 123 과 같은 표현\n",
        "- python에서의 정수형은 오버플로우가 없음\n",
        "\n",
        "#### 실수(floating-point number)\n",
        "- 중간에 소수점이 있는 0.1, 4.2, 3.13123 와 같은 식\n",
        "- 0. 으로 시작하는 실수값에서는 흔히 앞에 시작하는 0 제외 가능. .5 는 0.5를 줄여쓴 표현\n",
        "- 실수형의 최대 범위를 넘어가게 되면 inf(무한대)로 변함\n",
        "\n",
        "#### 참/거짓을 의미하는 부울대수값.(boolean)\t\n",
        "- 자체가 키워드로 True/False를 사용하여 표현"
      ]
    },
    {
      "cell_type": "markdown",
      "metadata": {
        "id": "lp_5IcbS4Mqo"
      },
      "source": [
        "1e-3 = 0.001\n",
        "1e-4 = 0.0001\n",
        "1e-3\n",
        "1e-4\n",
        "6.7e-9 = 0.0000000067\n",
        "1.8e-5 = 0.000018\n",
        "-2.7e-6 = -0.0000027"
      ]
    },
    {
      "cell_type": "code",
      "source": [
        "a=1\n",
        "type(a)"
      ],
      "metadata": {
        "colab": {
          "base_uri": "https://localhost:8080/"
        },
        "id": "hCjUAPoo0n8c",
        "outputId": "8e2ac4bc-01d3-497c-c22e-d2b9d5c6c04b"
      },
      "execution_count": null,
      "outputs": [
        {
          "output_type": "execute_result",
          "data": {
            "text/plain": [
              "int"
            ]
          },
          "metadata": {},
          "execution_count": 19
        }
      ]
    },
    {
      "cell_type": "code",
      "source": [
        "a=1.0\n",
        "type(a)"
      ],
      "metadata": {
        "colab": {
          "base_uri": "https://localhost:8080/"
        },
        "id": "ZlnzKNx70oDd",
        "outputId": "9a1ef639-bba7-4552-ce97-13e16e4ed3c9"
      },
      "execution_count": null,
      "outputs": [
        {
          "output_type": "execute_result",
          "data": {
            "text/plain": [
              "float"
            ]
          },
          "metadata": {},
          "execution_count": 21
        }
      ]
    },
    {
      "cell_type": "code",
      "source": [
        "b=True\n",
        "\n",
        "type(b)"
      ],
      "metadata": {
        "colab": {
          "base_uri": "https://localhost:8080/"
        },
        "id": "9tzeIkh80oNf",
        "outputId": "b70cb10f-7774-44c1-a487-b09faf29172e"
      },
      "execution_count": null,
      "outputs": [
        {
          "output_type": "execute_result",
          "data": {
            "text/plain": [
              "bool"
            ]
          },
          "metadata": {},
          "execution_count": 22
        }
      ]
    },
    {
      "cell_type": "markdown",
      "metadata": {
        "id": "i8ZQ6M6_4Mqo"
      },
      "source": [
        "### str\n",
        "- 글자, 글자가 모여서 만드는 단어, 문장, 여러 줄의 단락이나 글 전체\n",
        "- 문자열은 홑따옴표, 쌍따옴표, doc스트링('''    ''')으로 표현\n",
        "- 큰 따옴표와 작은 따옴표를 구분하지 않지만 양쪽 따옴표가 맞아야 함. \n",
        "- 따옴표 세 개를 연이어서 쓰는 경우에는 문자열 내에서 줄바꿈이 허용."
      ]
    },
    {
      "cell_type": "code",
      "execution_count": null,
      "metadata": {
        "id": "5kAG-acj4Mqo",
        "outputId": "b8b48fc0-ba39-495c-c521-f0165fc367d1",
        "colab": {
          "base_uri": "https://localhost:8080/"
        }
      },
      "outputs": [
        {
          "output_type": "execute_result",
          "data": {
            "text/plain": [
              "str"
            ]
          },
          "metadata": {},
          "execution_count": 24
        }
      ],
      "source": [
        "spam=\"I'm Park.\" # \" \" 에 문자들을 적음\n",
        "spam           # 작은 따옴표는 글자 취급됨\n",
        "type(spam)"
      ]
    },
    {
      "cell_type": "markdown",
      "metadata": {
        "id": "bzy-sO7d4Mqo"
      },
      "source": [
        "### 자료형과 자료형의 변환에 관련된 함수"
      ]
    },
    {
      "cell_type": "markdown",
      "metadata": {
        "id": "AyVFi-5l4Mqo"
      },
      "source": [
        "#### (1)int"
      ]
    },
    {
      "cell_type": "code",
      "execution_count": null,
      "metadata": {
        "id": "Ghrv7Nhm4Mqo",
        "outputId": "5bf83dd8-0c86-4667-d147-821509ebcc97",
        "colab": {
          "base_uri": "https://localhost:8080/"
        }
      },
      "outputs": [
        {
          "output_type": "execute_result",
          "data": {
            "text/plain": [
              "int"
            ]
          },
          "metadata": {},
          "execution_count": 25
        }
      ],
      "source": [
        "type(10)"
      ]
    },
    {
      "cell_type": "code",
      "execution_count": null,
      "metadata": {
        "id": "U3fykc0Z4Mqo",
        "outputId": "e4527e53-b3cc-4a32-c284-86e959c5a251",
        "colab": {
          "base_uri": "https://localhost:8080/"
        }
      },
      "outputs": [
        {
          "output_type": "execute_result",
          "data": {
            "text/plain": [
              "int"
            ]
          },
          "metadata": {},
          "execution_count": 26
        }
      ],
      "source": [
        "type(-2)"
      ]
    },
    {
      "cell_type": "code",
      "execution_count": null,
      "metadata": {
        "id": "4wMT3SIE4Mqp",
        "outputId": "718f9146-1938-47cd-fef4-2fc52b4058c4",
        "colab": {
          "base_uri": "https://localhost:8080/"
        }
      },
      "outputs": [
        {
          "output_type": "execute_result",
          "data": {
            "text/plain": [
              "10"
            ]
          },
          "metadata": {},
          "execution_count": 31
        }
      ],
      "source": [
        "sum = 10.7\n",
        "sum2 = int(sum)\n",
        "sum2"
      ]
    },
    {
      "cell_type": "code",
      "execution_count": null,
      "metadata": {
        "id": "Jp7ZXJJH4Mqp",
        "outputId": "d9e7ca40-f6f2-4e24-847b-22e776abda5d",
        "colab": {
          "base_uri": "https://localhost:8080/"
        }
      },
      "outputs": [
        {
          "output_type": "execute_result",
          "data": {
            "text/plain": [
              "10"
            ]
          },
          "metadata": {},
          "execution_count": 29
        }
      ],
      "source": [
        "int('10')"
      ]
    },
    {
      "cell_type": "code",
      "execution_count": null,
      "metadata": {
        "id": "Lo4Cjkt24Mqp",
        "outputId": "1a4ff374-755e-499c-ad57-dcdfa74da825",
        "colab": {
          "base_uri": "https://localhost:8080/",
          "height": 169
        }
      },
      "outputs": [
        {
          "output_type": "error",
          "ename": "ValueError",
          "evalue": "ignored",
          "traceback": [
            "\u001b[0;31m---------------------------------------------------------------------------\u001b[0m",
            "\u001b[0;31mValueError\u001b[0m                                Traceback (most recent call last)",
            "\u001b[0;32m<ipython-input-24-12a85981658c>\u001b[0m in \u001b[0;36m<module>\u001b[0;34m()\u001b[0m\n\u001b[0;32m----> 1\u001b[0;31m \u001b[0mint\u001b[0m\u001b[0;34m(\u001b[0m\u001b[0;34m'ten'\u001b[0m\u001b[0;34m)\u001b[0m\u001b[0;34m\u001b[0m\u001b[0;34m\u001b[0m\u001b[0m\n\u001b[0m",
            "\u001b[0;31mValueError\u001b[0m: invalid literal for int() with base 10: 'ten'"
          ]
        }
      ],
      "source": [
        "int('ten')"
      ]
    },
    {
      "cell_type": "code",
      "execution_count": null,
      "metadata": {
        "id": "ZJM7xwbk4Mqp",
        "outputId": "a4be5f4f-7b66-4535-ebc3-fd08cf8f9c34",
        "colab": {
          "base_uri": "https://localhost:8080/",
          "height": 169
        }
      },
      "outputs": [
        {
          "output_type": "error",
          "ename": "ValueError",
          "evalue": "ignored",
          "traceback": [
            "\u001b[0;31m---------------------------------------------------------------------------\u001b[0m",
            "\u001b[0;31mValueError\u001b[0m                                Traceback (most recent call last)",
            "\u001b[0;32m<ipython-input-25-29ebcae3c2a2>\u001b[0m in \u001b[0;36m<module>\u001b[0;34m()\u001b[0m\n\u001b[0;32m----> 1\u001b[0;31m \u001b[0mint\u001b[0m\u001b[0;34m(\u001b[0m\u001b[0;34m'10.0'\u001b[0m\u001b[0;34m)\u001b[0m \u001b[0;31m#소수점이 있어서 안되는 것(str -> int 변환은 0~9 숫자만 가능)\u001b[0m\u001b[0;34m\u001b[0m\u001b[0;34m\u001b[0m\u001b[0m\n\u001b[0m",
            "\u001b[0;31mValueError\u001b[0m: invalid literal for int() with base 10: '10.0'"
          ]
        }
      ],
      "source": [
        "int('10.0') #소수점이 있어서 안되는 것(str -> int 변환은 0~9 숫자만 가능)"
      ]
    },
    {
      "cell_type": "markdown",
      "metadata": {
        "id": "9Pa_vw6k4Mqp"
      },
      "source": [
        "#### (2)float"
      ]
    },
    {
      "cell_type": "code",
      "execution_count": null,
      "metadata": {
        "id": "O5436ceC4Mqp",
        "outputId": "f372ea0c-16c1-4386-c447-81251415545f",
        "colab": {
          "base_uri": "https://localhost:8080/"
        }
      },
      "outputs": [
        {
          "output_type": "execute_result",
          "data": {
            "text/plain": [
              "float"
            ]
          },
          "metadata": {},
          "execution_count": 32
        }
      ],
      "source": [
        "type(1.2)"
      ]
    },
    {
      "cell_type": "code",
      "execution_count": null,
      "metadata": {
        "id": "KhwKzc8A4Mqp",
        "outputId": "81a0c272-51c0-481e-dda3-b741b6b3ad93",
        "colab": {
          "base_uri": "https://localhost:8080/"
        }
      },
      "outputs": [
        {
          "output_type": "execute_result",
          "data": {
            "text/plain": [
              "float"
            ]
          },
          "metadata": {},
          "execution_count": 33
        }
      ],
      "source": [
        "type(5.)"
      ]
    },
    {
      "cell_type": "code",
      "execution_count": null,
      "metadata": {
        "id": "Y99fdJ6m4Mqp",
        "outputId": "7573c436-303f-4f3e-c367-34b8e3137a02",
        "colab": {
          "base_uri": "https://localhost:8080/"
        }
      },
      "outputs": [
        {
          "output_type": "execute_result",
          "data": {
            "text/plain": [
              "float"
            ]
          },
          "metadata": {},
          "execution_count": 34
        }
      ],
      "source": [
        "type(.5)"
      ]
    },
    {
      "cell_type": "code",
      "execution_count": null,
      "metadata": {
        "id": "MOpMz-8W4Mqq",
        "outputId": "9c096bc6-b741-4b72-e4df-d83df640a4fe",
        "colab": {
          "base_uri": "https://localhost:8080/"
        }
      },
      "outputs": [
        {
          "output_type": "execute_result",
          "data": {
            "text/plain": [
              "2.14"
            ]
          },
          "metadata": {},
          "execution_count": 31
        }
      ],
      "source": [
        "3.14-1"
      ]
    },
    {
      "cell_type": "code",
      "execution_count": null,
      "metadata": {
        "id": "9Cg7ohe24Mqq",
        "outputId": "3947b7e3-82aa-4b7a-f5a5-9bb741c38a60",
        "colab": {
          "base_uri": "https://localhost:8080/"
        }
      },
      "outputs": [
        {
          "output_type": "execute_result",
          "data": {
            "text/plain": [
              "10.0"
            ]
          },
          "metadata": {},
          "execution_count": 35
        }
      ],
      "source": [
        "float(10)"
      ]
    },
    {
      "cell_type": "code",
      "execution_count": null,
      "metadata": {
        "id": "tll0sIEO4Mqq",
        "outputId": "a0dabae5-b3ca-444d-ea53-d43049b7055f",
        "colab": {
          "base_uri": "https://localhost:8080/"
        }
      },
      "outputs": [
        {
          "output_type": "execute_result",
          "data": {
            "text/plain": [
              "10.0"
            ]
          },
          "metadata": {},
          "execution_count": 36
        }
      ],
      "source": [
        "float('10')"
      ]
    },
    {
      "cell_type": "code",
      "execution_count": null,
      "metadata": {
        "id": "19WcoqsS4Mqq",
        "outputId": "8f552e6d-5f85-415c-ac86-5f676ddbd171",
        "colab": {
          "base_uri": "https://localhost:8080/"
        }
      },
      "outputs": [
        {
          "output_type": "execute_result",
          "data": {
            "text/plain": [
              "10.0"
            ]
          },
          "metadata": {},
          "execution_count": 37
        }
      ],
      "source": [
        "float('10.0')"
      ]
    },
    {
      "cell_type": "code",
      "execution_count": null,
      "metadata": {
        "id": "3_Zuh2Pq4Mqq",
        "outputId": "5f7d9c50-630f-45a6-a794-e5423c7c7c44",
        "colab": {
          "base_uri": "https://localhost:8080/"
        }
      },
      "outputs": [
        {
          "output_type": "execute_result",
          "data": {
            "text/plain": [
              "inf"
            ]
          },
          "metadata": {},
          "execution_count": 38
        }
      ],
      "source": [
        "float('inf')"
      ]
    },
    {
      "cell_type": "markdown",
      "metadata": {
        "id": "7jz4lpIR4Mqq"
      },
      "source": [
        "#### (3)bool"
      ]
    },
    {
      "cell_type": "code",
      "execution_count": null,
      "metadata": {
        "id": "sRdBX9no4Mqq",
        "outputId": "7dae9038-be88-4feb-bfbd-a1d028a335d6",
        "colab": {
          "base_uri": "https://localhost:8080/"
        }
      },
      "outputs": [
        {
          "output_type": "execute_result",
          "data": {
            "text/plain": [
              "(True, False)"
            ]
          },
          "metadata": {},
          "execution_count": 39
        }
      ],
      "source": [
        "a = True\n",
        "b = False\n",
        "a, b"
      ]
    },
    {
      "cell_type": "code",
      "execution_count": null,
      "metadata": {
        "id": "T_dkhyF64Mqq",
        "outputId": "5dd360c1-17cb-4e85-bcc8-2e6aba480222",
        "colab": {
          "base_uri": "https://localhost:8080/"
        }
      },
      "outputs": [
        {
          "output_type": "execute_result",
          "data": {
            "text/plain": [
              "bool"
            ]
          },
          "metadata": {},
          "execution_count": 40
        }
      ],
      "source": [
        "type(a)"
      ]
    },
    {
      "cell_type": "code",
      "execution_count": null,
      "metadata": {
        "id": "2UyP8bVP4Mqq",
        "outputId": "9a150ddd-b48d-4702-e822-548ef05c2335",
        "colab": {
          "base_uri": "https://localhost:8080/"
        }
      },
      "outputs": [
        {
          "output_type": "execute_result",
          "data": {
            "text/plain": [
              "bool"
            ]
          },
          "metadata": {},
          "execution_count": 41
        }
      ],
      "source": [
        "type(b)"
      ]
    },
    {
      "cell_type": "code",
      "execution_count": null,
      "metadata": {
        "id": "Ot2itfgD4Mqr",
        "outputId": "8c30fad4-0d75-401e-fd30-33863fcbe96a",
        "colab": {
          "base_uri": "https://localhost:8080/"
        }
      },
      "outputs": [
        {
          "output_type": "execute_result",
          "data": {
            "text/plain": [
              "False"
            ]
          },
          "metadata": {},
          "execution_count": 42
        }
      ],
      "source": [
        "bool(0) # bool type으로 만들기"
      ]
    },
    {
      "cell_type": "code",
      "execution_count": null,
      "metadata": {
        "id": "0wow9ZNz4Mqr",
        "outputId": "4b32a01f-b8c6-4796-d68f-e14694347877",
        "colab": {
          "base_uri": "https://localhost:8080/"
        }
      },
      "outputs": [
        {
          "output_type": "execute_result",
          "data": {
            "text/plain": [
              "True"
            ]
          },
          "metadata": {},
          "execution_count": 43
        }
      ],
      "source": [
        "bool(1)"
      ]
    },
    {
      "cell_type": "code",
      "execution_count": null,
      "metadata": {
        "id": "8-2tyJby4Mqr",
        "outputId": "6b6bd6b1-da8b-4557-e002-842dcb39f5f3",
        "colab": {
          "base_uri": "https://localhost:8080/"
        }
      },
      "outputs": [
        {
          "output_type": "execute_result",
          "data": {
            "text/plain": [
              "True"
            ]
          },
          "metadata": {},
          "execution_count": 44
        }
      ],
      "source": [
        "bool(-1)"
      ]
    },
    {
      "cell_type": "code",
      "execution_count": null,
      "metadata": {
        "id": "4dY2o7Z04Mqr",
        "outputId": "5d9860f2-8dc5-4650-f0cd-5fba98f25ad2",
        "colab": {
          "base_uri": "https://localhost:8080/"
        }
      },
      "outputs": [
        {
          "output_type": "execute_result",
          "data": {
            "text/plain": [
              "True"
            ]
          },
          "metadata": {},
          "execution_count": 45
        }
      ],
      "source": [
        "bool(10.0)"
      ]
    },
    {
      "cell_type": "markdown",
      "metadata": {
        "id": "k2y8962z4Mqr"
      },
      "source": [
        "#### (4)string"
      ]
    },
    {
      "cell_type": "code",
      "execution_count": null,
      "metadata": {
        "id": "RuTk3a3w4Mqr",
        "outputId": "095b615d-c4d7-408f-ce7b-cb1f374f54b3",
        "colab": {
          "base_uri": "https://localhost:8080/",
          "height": 36
        }
      },
      "outputs": [
        {
          "output_type": "execute_result",
          "data": {
            "text/plain": [
              "'100'"
            ],
            "application/vnd.google.colaboratory.intrinsic+json": {
              "type": "string"
            }
          },
          "metadata": {},
          "execution_count": 46
        }
      ],
      "source": [
        "str(100)"
      ]
    },
    {
      "cell_type": "code",
      "execution_count": null,
      "metadata": {
        "id": "MqlbPpKw4Mqr",
        "outputId": "948283cb-6b5f-4bb0-a27f-3a3760213ede",
        "colab": {
          "base_uri": "https://localhost:8080/",
          "height": 36
        }
      },
      "outputs": [
        {
          "output_type": "execute_result",
          "data": {
            "text/plain": [
              "'12.34'"
            ],
            "application/vnd.google.colaboratory.intrinsic+json": {
              "type": "string"
            }
          },
          "metadata": {},
          "execution_count": 44
        }
      ],
      "source": [
        "str(12.34)"
      ]
    },
    {
      "cell_type": "code",
      "execution_count": null,
      "metadata": {
        "id": "sdjbP_ZE4Mqr",
        "outputId": "3410d25a-a7e1-4d90-d3d1-b2c92eef0a1f",
        "colab": {
          "base_uri": "https://localhost:8080/"
        }
      },
      "outputs": [
        {
          "output_type": "execute_result",
          "data": {
            "text/plain": [
              "4"
            ]
          },
          "metadata": {},
          "execution_count": 45
        }
      ],
      "source": [
        "len(\"park\")"
      ]
    },
    {
      "cell_type": "code",
      "execution_count": null,
      "metadata": {
        "id": "VK4cwhLE4Mqr",
        "outputId": "ea544a95-fe90-48dd-af06-c11444dbe368",
        "colab": {
          "base_uri": "https://localhost:8080/"
        }
      },
      "outputs": [
        {
          "output_type": "execute_result",
          "data": {
            "text/plain": [
              "97"
            ]
          },
          "metadata": {},
          "execution_count": 50
        }
      ],
      "source": [
        "ord('a')"
      ]
    },
    {
      "cell_type": "code",
      "execution_count": null,
      "metadata": {
        "id": "7SARvCTp4Mqr",
        "outputId": "b5c95f9d-c402-4916-f38e-dbc91edbf70c",
        "colab": {
          "base_uri": "https://localhost:8080/",
          "height": 36
        }
      },
      "outputs": [
        {
          "output_type": "execute_result",
          "data": {
            "text/plain": [
              "'a'"
            ],
            "application/vnd.google.colaboratory.intrinsic+json": {
              "type": "string"
            }
          },
          "metadata": {},
          "execution_count": 51
        }
      ],
      "source": [
        "chr(97)"
      ]
    },
    {
      "cell_type": "code",
      "execution_count": null,
      "metadata": {
        "id": "ME4Wxmxo4Mqr",
        "outputId": "4543c7ba-c5da-4dfe-ae14-272ee3e16c56",
        "colab": {
          "base_uri": "https://localhost:8080/",
          "height": 36
        }
      },
      "outputs": [
        {
          "output_type": "execute_result",
          "data": {
            "text/plain": [
              "'\\n'"
            ],
            "application/vnd.google.colaboratory.intrinsic+json": {
              "type": "string"
            }
          },
          "metadata": {},
          "execution_count": 52
        }
      ],
      "source": [
        "chr(10)"
      ]
    },
    {
      "cell_type": "markdown",
      "metadata": {
        "id": "DmhF5dEc4Mqr"
      },
      "source": [
        "## 연산자"
      ]
    },
    {
      "cell_type": "code",
      "execution_count": null,
      "metadata": {
        "id": "2Ge3eIle4Mqs",
        "outputId": "b1725600-3c01-45a3-85c1-378fd0debe27",
        "colab": {
          "base_uri": "https://localhost:8080/"
        }
      },
      "outputs": [
        {
          "output_type": "stream",
          "name": "stdout",
          "text": [
            "22\n",
            "-2\n",
            "120\n",
            "0.8333333333333334\n",
            "100\n",
            "0\n",
            "10\n"
          ]
        }
      ],
      "source": [
        "# 산술연산\n",
        "#더하기\n",
        "print(10+12)\n",
        "#빼기\n",
        "print(10-12)\n",
        "#곱하기\n",
        "print(10*12)\n",
        "#나누기\n",
        "print(10/12)\n",
        "#지수\n",
        "print(10**2)\n",
        "#몫\n",
        "print(10//12)\n",
        "#나머지\n",
        "print(10%12)"
      ]
    },
    {
      "cell_type": "code",
      "execution_count": null,
      "metadata": {
        "id": "RR0J1Ca64Mqs",
        "outputId": "b9d1120d-ff95-4aa4-b946-fc5927550ad2",
        "colab": {
          "base_uri": "https://localhost:8080/",
          "height": 134
        }
      },
      "outputs": [
        {
          "output_type": "error",
          "ename": "SyntaxError",
          "evalue": "ignored",
          "traceback": [
            "\u001b[0;36m  File \u001b[0;32m\"<ipython-input-48-a0f3961311dc>\"\u001b[0;36m, line \u001b[0;32m1\u001b[0m\n\u001b[0;31m    11=>10\u001b[0m\n\u001b[0m       ^\u001b[0m\n\u001b[0;31mSyntaxError\u001b[0m\u001b[0;31m:\u001b[0m invalid syntax\n"
          ]
        }
      ],
      "source": [
        "11=>10"
      ]
    },
    {
      "cell_type": "code",
      "execution_count": null,
      "metadata": {
        "id": "i95kX4P54Mqs",
        "outputId": "9313016f-f559-4df5-9ae8-46a574fa7f98",
        "colab": {
          "base_uri": "https://localhost:8080/"
        }
      },
      "outputs": [
        {
          "output_type": "stream",
          "name": "stdout",
          "text": [
            "True\n",
            "True\n",
            "False\n"
          ]
        }
      ],
      "source": [
        "print(11>=10)\n",
        "print(11 == 11)\n",
        "print(11 != 11)"
      ]
    },
    {
      "cell_type": "code",
      "execution_count": null,
      "metadata": {
        "id": "WPf6W2xv4Mqs",
        "outputId": "45ac7218-77bd-4c58-ee9c-d6f11d5346bf",
        "colab": {
          "base_uri": "https://localhost:8080/",
          "height": 134
        }
      },
      "outputs": [
        {
          "output_type": "error",
          "ename": "SyntaxError",
          "evalue": "ignored",
          "traceback": [
            "\u001b[0;36m  File \u001b[0;32m\"<ipython-input-57-85f45c9bef07>\"\u001b[0;36m, line \u001b[0;32m1\u001b[0m\n\u001b[0;31m    11=11\u001b[0m\n\u001b[0m         ^\u001b[0m\n\u001b[0;31mSyntaxError\u001b[0m\u001b[0;31m:\u001b[0m can't assign to literal\n"
          ]
        }
      ],
      "source": [
        "11=11"
      ]
    },
    {
      "cell_type": "code",
      "execution_count": null,
      "metadata": {
        "id": "8TDloSuz4Mqs",
        "outputId": "2993eba6-1428-4672-b883-8370ee527893",
        "colab": {
          "base_uri": "https://localhost:8080/"
        }
      },
      "outputs": [
        {
          "output_type": "execute_result",
          "data": {
            "text/plain": [
              "True"
            ]
          },
          "metadata": {},
          "execution_count": 50
        }
      ],
      "source": [
        "'Hello'>'HELLO' #소문자가 아스키 코드보다 크다 cf. 'A'-> 65. 'a'->97"
      ]
    },
    {
      "cell_type": "code",
      "execution_count": null,
      "metadata": {
        "id": "-UUnlLqf4Mqs",
        "outputId": "70e902a2-63d1-4651-c42e-a8aad10311f2",
        "colab": {
          "base_uri": "https://localhost:8080/"
        }
      },
      "outputs": [
        {
          "output_type": "execute_result",
          "data": {
            "text/plain": [
              "True"
            ]
          },
          "metadata": {},
          "execution_count": 51
        }
      ],
      "source": [
        "'e'>'E'"
      ]
    },
    {
      "cell_type": "code",
      "execution_count": null,
      "metadata": {
        "id": "QC9bbjKK4Mqp",
        "outputId": "77054b7a-76cf-41e0-b488-7ee272bea60d",
        "colab": {
          "base_uri": "https://localhost:8080/"
        }
      },
      "outputs": [
        {
          "output_type": "execute_result",
          "data": {
            "text/plain": [
              "True"
            ]
          },
          "metadata": {},
          "execution_count": 52
        }
      ],
      "source": [
        "'Hello' > 'HELLO'"
      ]
    },
    {
      "cell_type": "markdown",
      "metadata": {
        "id": "m2L0tarZ4Mqv"
      },
      "source": [
        "#### 문자열 산술 연산"
      ]
    },
    {
      "cell_type": "code",
      "execution_count": null,
      "metadata": {
        "id": "p6GlJuhO4Mqv",
        "outputId": "76a730c4-8358-435d-c9d3-a475596f3db8",
        "colab": {
          "base_uri": "https://localhost:8080/",
          "height": 36
        }
      },
      "outputs": [
        {
          "output_type": "execute_result",
          "data": {
            "text/plain": [
              "'Hello World'"
            ],
            "application/vnd.google.colaboratory.intrinsic+json": {
              "type": "string"
            }
          },
          "metadata": {},
          "execution_count": 54
        }
      ],
      "source": [
        "'Hello' + ' ' + 'World' #접합(concatenate) 문자열과 다른 데이터 타입과는 접합 불가능"
      ]
    },
    {
      "cell_type": "code",
      "execution_count": null,
      "metadata": {
        "id": "eRQ-WKOZ4Mqv",
        "outputId": "7373663f-3beb-4c25-951a-0dff5c1811ed",
        "colab": {
          "base_uri": "https://localhost:8080/"
        }
      },
      "outputs": [
        {
          "output_type": "stream",
          "name": "stdout",
          "text": [
            "Hello Hello Hello \n",
            "Hello Hello Hello \n"
          ]
        }
      ],
      "source": [
        "print('Hello ' +'Hello ' +'Hello ')\n",
        "print('Hello '*3)"
      ]
    },
    {
      "cell_type": "code",
      "execution_count": null,
      "metadata": {
        "id": "igtnJA0u4Mqv",
        "outputId": "e9d9aacf-098a-46a4-a7ab-96fffa70ab24",
        "colab": {
          "base_uri": "https://localhost:8080/"
        }
      },
      "outputs": [
        {
          "output_type": "stream",
          "name": "stdout",
          "text": [
            "World! World! \n"
          ]
        }
      ],
      "source": [
        "print(2*'World! ') #교환 법칙 성립"
      ]
    },
    {
      "cell_type": "code",
      "source": [
        "True and True"
      ],
      "metadata": {
        "colab": {
          "base_uri": "https://localhost:8080/"
        },
        "id": "rST4yFGcldt3",
        "outputId": "e9819986-769a-4f6b-dcc1-0917b72b03e5"
      },
      "execution_count": null,
      "outputs": [
        {
          "output_type": "execute_result",
          "data": {
            "text/plain": [
              "True"
            ]
          },
          "metadata": {},
          "execution_count": 58
        }
      ]
    },
    {
      "cell_type": "markdown",
      "metadata": {
        "id": "lbtRP1Et4Mqv"
      },
      "source": [
        "# print()\n",
        "- 모니터에 텍스트(문자열)를 출력해주는 함수\n",
        "- end=' '에서 '  '안에 문자열을 넣어주면 해당 문자열이 줄의 끝에 삽입됨"
      ]
    },
    {
      "cell_type": "code",
      "execution_count": null,
      "metadata": {
        "id": "-5gSvlqM4Mqv",
        "outputId": "b20b7838-e542-45e0-e799-7a1602d73d02",
        "colab": {
          "base_uri": "https://localhost:8080/"
        }
      },
      "outputs": [
        {
          "output_type": "stream",
          "name": "stdout",
          "text": [
            "Hello\n",
            "Park!!\n"
          ]
        }
      ],
      "source": [
        "print(\"Hello\")\n",
        "print(\"Park!!\")"
      ]
    },
    {
      "cell_type": "code",
      "execution_count": null,
      "metadata": {
        "id": "rK54C7a84Mqw",
        "outputId": "20d975ec-7363-43fc-f87a-09a0160688ec",
        "colab": {
          "base_uri": "https://localhost:8080/"
        }
      },
      "outputs": [
        {
          "output_type": "stream",
          "name": "stdout",
          "text": [
            "Hello  Park!!\n"
          ]
        }
      ],
      "source": [
        "print(\"Hello\",end='  ')\n",
        "print(\"Park!!\")"
      ]
    },
    {
      "cell_type": "code",
      "execution_count": null,
      "metadata": {
        "id": "uk0CB2ka4Mqw",
        "outputId": "9623b02a-3513-4499-d521-abf07a4c46f9",
        "colab": {
          "base_uri": "https://localhost:8080/"
        }
      },
      "outputs": [
        {
          "output_type": "stream",
          "name": "stdout",
          "text": [
            "Hello!Park\n",
            "Park!!\n"
          ]
        }
      ],
      "source": [
        "print(\"Hello\",\"Park\",sep='!')\n",
        "print(\"Park!!\")"
      ]
    },
    {
      "cell_type": "code",
      "execution_count": null,
      "metadata": {
        "id": "CRS36TvW4Mqw",
        "outputId": "2277e625-3c8e-4400-bccb-62456d77b208",
        "colab": {
          "base_uri": "https://localhost:8080/"
        }
      },
      "outputs": [
        {
          "output_type": "stream",
          "name": "stdout",
          "text": [
            "Single-line string\n"
          ]
        }
      ],
      "source": [
        "print('Single-line string')"
      ]
    },
    {
      "cell_type": "code",
      "execution_count": null,
      "metadata": {
        "id": "cXnRbz034Mqw",
        "outputId": "7a284244-3a36-4ba7-c6d4-b31eda639ec4"
      },
      "outputs": [
        {
          "ename": "SyntaxError",
          "evalue": "EOL while scanning string literal (Temp/ipykernel_9560/394612451.py, line 1)",
          "output_type": "error",
          "traceback": [
            "\u001b[1;36m  File \u001b[1;32m\"C:\\Users\\3P022\\AppData\\Local\\Temp/ipykernel_9560/394612451.py\"\u001b[1;36m, line \u001b[1;32m1\u001b[0m\n\u001b[1;33m    print(\"Double-quoted\u001b[0m\n\u001b[1;37m                         ^\u001b[0m\n\u001b[1;31mSyntaxError\u001b[0m\u001b[1;31m:\u001b[0m EOL while scanning string literal\n"
          ]
        }
      ],
      "source": [
        "print(\"Double-quoted \n",
        "      string\") # error EOL = end of line 줄끈에서 에러 발생"
      ]
    },
    {
      "cell_type": "code",
      "source": [
        "print('''Double-quoted \n",
        "\n",
        "\n",
        "      string''') # error EOL = end of line 줄끈에서 에러 발생"
      ],
      "metadata": {
        "colab": {
          "base_uri": "https://localhost:8080/"
        },
        "id": "-rRpvEfogyR9",
        "outputId": "04f62db7-26a1-4fc3-e655-edddf5fa5cc0"
      },
      "execution_count": null,
      "outputs": [
        {
          "output_type": "stream",
          "name": "stdout",
          "text": [
            "Double-quoted \n",
            "\n",
            "\n",
            "      string\n"
          ]
        }
      ]
    },
    {
      "cell_type": "code",
      "execution_count": null,
      "metadata": {
        "id": "LXks6cfy4Mqw",
        "outputId": "139f1b04-567e-42d6-be54-32b00dca211b",
        "colab": {
          "base_uri": "https://localhost:8080/"
        }
      },
      "outputs": [
        {
          "output_type": "stream",
          "name": "stdout",
          "text": [
            "String with\n",
            "newline\n"
          ]
        }
      ],
      "source": [
        "print ('String with\\nnewline')"
      ]
    },
    {
      "cell_type": "code",
      "execution_count": null,
      "metadata": {
        "id": "4Tvc8dZw4Mqw",
        "outputId": "2301177c-d4b0-4f70-ab48-94b9ee6781a4",
        "colab": {
          "base_uri": "https://localhost:8080/"
        }
      },
      "outputs": [
        {
          "output_type": "stream",
          "name": "stdout",
          "text": [
            "String with\n",
            "\tnewline\n",
            "String with\n",
            "\"newline\n",
            "String with가 newline\n",
            "String with\"newline\n"
          ]
        }
      ],
      "source": [
        "print ('String with\\n\\tnewline')\n",
        "print ('String with\\n\\\"newline')\n",
        "print ('String with\\uac00 newline')\n",
        "print ('String with\\\"newline')"
      ]
    },
    {
      "cell_type": "code",
      "execution_count": null,
      "metadata": {
        "id": "hTKi1yus4Mqw",
        "outputId": "e208bcb2-6687-48ee-9522-6f28d3dd6984",
        "colab": {
          "base_uri": "https://localhost:8080/",
          "height": 223
        }
      },
      "outputs": [
        {
          "output_type": "error",
          "ename": "TypeError",
          "evalue": "ignored",
          "traceback": [
            "\u001b[0;31m---------------------------------------------------------------------------\u001b[0m",
            "\u001b[0;31mTypeError\u001b[0m                                 Traceback (most recent call last)",
            "\u001b[0;32m<ipython-input-69-452c27edc3d3>\u001b[0m in \u001b[0;36m<module>\u001b[0;34m()\u001b[0m\n\u001b[1;32m      1\u001b[0m \u001b[0mage\u001b[0m \u001b[0;34m=\u001b[0m \u001b[0;36m25\u001b[0m\u001b[0;34m\u001b[0m\u001b[0;34m\u001b[0m\u001b[0m\n\u001b[0;32m----> 2\u001b[0;31m \u001b[0mprint\u001b[0m\u001b[0;34m(\u001b[0m\u001b[0;34m'나이 '\u001b[0m\u001b[0;34m+\u001b[0m\u001b[0mage\u001b[0m \u001b[0;34m)\u001b[0m\u001b[0;34m\u001b[0m\u001b[0;34m\u001b[0m\u001b[0m\n\u001b[0m\u001b[1;32m      3\u001b[0m \u001b[0mname\u001b[0m \u001b[0;34m=\u001b[0m \u001b[0;34m\"슈가\"\u001b[0m\u001b[0;34m\u001b[0m\u001b[0;34m\u001b[0m\u001b[0m\n\u001b[1;32m      4\u001b[0m \u001b[0mprint\u001b[0m\u001b[0;34m(\u001b[0m\u001b[0;34m'Nice to meet you, '\u001b[0m \u001b[0;34m+\u001b[0m \u001b[0mname\u001b[0m  \u001b[0;34m)\u001b[0m\u001b[0;34m\u001b[0m\u001b[0;34m\u001b[0m\u001b[0m\n",
            "\u001b[0;31mTypeError\u001b[0m: can only concatenate str (not \"int\") to str"
          ]
        }
      ],
      "source": [
        "age = 25\n",
        "print('나이 '+age )\n",
        "name = \"슈가\"\n",
        "print('Nice to meet you, ' + name  )"
      ]
    },
    {
      "cell_type": "code",
      "execution_count": null,
      "metadata": {
        "id": "ROW18K634Mqw",
        "outputId": "7f0c881f-f130-4372-e6d7-107d2543ca66",
        "colab": {
          "base_uri": "https://localhost:8080/"
        }
      },
      "outputs": [
        {
          "output_type": "stream",
          "name": "stdout",
          "text": [
            "나이: 25\n",
            "Nice to meet you, 슈가\n"
          ]
        }
      ],
      "source": [
        "age = 25\n",
        "print ('나이:',age )\n",
        "name = \"슈가\"\n",
        "print ('Nice to meet you, ' + name  )"
      ]
    },
    {
      "cell_type": "code",
      "execution_count": null,
      "metadata": {
        "id": "9fBihV964Mqx",
        "outputId": "1d01d9dc-35bb-459d-f2da-f34d5e80ad6a",
        "colab": {
          "base_uri": "https://localhost:8080/"
        }
      },
      "outputs": [
        {
          "output_type": "stream",
          "name": "stdout",
          "text": [
            "나이:25\n",
            "Nice to meet you, 슈가\n"
          ]
        }
      ],
      "source": [
        "age = 25\n",
        "print ('나이:' + str(age) )\n",
        "name = \"슈가\"\n",
        "print ('Nice to meet you, ' + name  )"
      ]
    },
    {
      "cell_type": "code",
      "source": [
        "age = 25\n",
        "print (f'나이:{age}')\n",
        "name = \"슈가\"\n",
        "print (f'Nice to meet you, {name}')\n",
        "\n",
        "print(f'나이:{age}, 안녕하세요{name}')"
      ],
      "metadata": {
        "colab": {
          "base_uri": "https://localhost:8080/"
        },
        "id": "NrZdc081hOj2",
        "outputId": "f0b1c0b8-a220-4799-961d-c2b8ba5dab54"
      },
      "execution_count": null,
      "outputs": [
        {
          "output_type": "stream",
          "name": "stdout",
          "text": [
            "나이:25\n",
            "Nice to meet you, 슈가\n",
            "나이:25, 안녕하세요슈가\n"
          ]
        }
      ]
    },
    {
      "cell_type": "markdown",
      "metadata": {
        "id": "r7e2sU6S4Mqx"
      },
      "source": [
        "## input()\n",
        "- 프로그램 실행 중에 키보드로부터 데이터를 입력 받고자 할 때 사용하는 함수"
      ]
    },
    {
      "cell_type": "code",
      "execution_count": null,
      "metadata": {
        "id": "A6dxU2L24Mqx",
        "outputId": "73545234-f81b-4e60-8383-f55c2c8358a0",
        "colab": {
          "base_uri": "https://localhost:8080/"
        }
      },
      "outputs": [
        {
          "output_type": "stream",
          "name": "stdout",
          "text": [
            "How old are you?\n",
            "25\n",
            "You are 25 years old.\n"
          ]
        }
      ],
      "source": [
        "print ('How old are you?')\n",
        "age = input()# 문자열로 입력 받음\n",
        "print ('You are '  + age + ' years old.')"
      ]
    },
    {
      "cell_type": "code",
      "execution_count": null,
      "metadata": {
        "id": "a-Hoh7mY4Mqx",
        "outputId": "cf6050d4-a3bd-42d2-a776-6eb55f9a88a1",
        "colab": {
          "base_uri": "https://localhost:8080/"
        }
      },
      "outputs": [
        {
          "output_type": "stream",
          "name": "stdout",
          "text": [
            "How old are you?\n",
            "25\n",
            "10 years later, you will be 35 years old.\n"
          ]
        }
      ],
      "source": [
        "print ('How old are you?')\n",
        "age = int(input())\n",
        "print ('10 years later, you will be '  + str(age+10) + ' years old.')"
      ]
    },
    {
      "cell_type": "code",
      "execution_count": null,
      "metadata": {
        "id": "KMZJ-Lbq4Mqx",
        "outputId": "21999f99-8db6-405f-ae49-e286451f2787",
        "colab": {
          "base_uri": "https://localhost:8080/"
        }
      },
      "outputs": [
        {
          "output_type": "stream",
          "name": "stdout",
          "text": [
            "How old are you?23\n",
            "You are 23 years old.\n"
          ]
        }
      ],
      "source": [
        "age = input('How old are you?')\n",
        "print (f'You are {age} years old.')"
      ]
    },
    {
      "cell_type": "code",
      "execution_count": null,
      "metadata": {
        "id": "14w-1mO14Mqx",
        "outputId": "99677fe7-33e5-4e2c-c0b8-5db094e63ec2",
        "colab": {
          "base_uri": "https://localhost:8080/"
        }
      },
      "outputs": [
        {
          "output_type": "stream",
          "name": "stdout",
          "text": [
            "체중을 입력하세요(kg):82\n",
            "신장을 입력하세요(cm):182\n",
            "\n",
            "BMI는 24.76 입니다\n"
          ]
        }
      ],
      "source": [
        "weight  = input('체중을 입력하세요(kg):')\n",
        "height  = input('신장을 입력하세요(cm):')\n",
        "print( )\n",
        "BMI = float(weight) / (float(height)/100)**2\n",
        "print ('BMI는 %.2f'%BMI, '입니다')"
      ]
    },
    {
      "cell_type": "code",
      "source": [
        ""
      ],
      "metadata": {
        "id": "IiYmYvrIp0FC"
      },
      "execution_count": null,
      "outputs": []
    }
  ],
  "metadata": {
    "kernelspec": {
      "display_name": "Python 3 (ipykernel)",
      "language": "python",
      "name": "python3"
    },
    "language_info": {
      "codemirror_mode": {
        "name": "ipython",
        "version": 3
      },
      "file_extension": ".py",
      "mimetype": "text/x-python",
      "name": "python",
      "nbconvert_exporter": "python",
      "pygments_lexer": "ipython3",
      "version": "3.9.7"
    },
    "colab": {
      "name": "Python_1.ipynb",
      "provenance": [],
      "collapsed_sections": [],
      "include_colab_link": true
    }
  },
  "nbformat": 4,
  "nbformat_minor": 0
}